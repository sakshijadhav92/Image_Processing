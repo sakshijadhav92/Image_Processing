{
 "cells": [
  {
   "cell_type": "code",
   "execution_count": 1,
   "id": "63b7b14e",
   "metadata": {},
   "outputs": [
    {
     "name": "stdout",
     "output_type": "stream",
     "text": [
      "Requirement already satisfied: numpy in c:\\users\\admin\\anaconda3\\lib\\site-packages (1.20.1)\n",
      "Note: you may need to restart the kernel to use updated packages.\n"
     ]
    }
   ],
   "source": [
    "pip install numpy"
   ]
  },
  {
   "cell_type": "code",
   "execution_count": 2,
   "id": "680bfb83",
   "metadata": {},
   "outputs": [
    {
     "name": "stdout",
     "output_type": "stream",
     "text": [
      "Requirement already satisfied: opencv-python in c:\\users\\admin\\anaconda3\\lib\\site-packages (4.5.2.54)\n",
      "Requirement already satisfied: numpy>=1.17.3 in c:\\users\\admin\\anaconda3\\lib\\site-packages (from opencv-python) (1.20.1)\n",
      "Note: you may need to restart the kernel to use updated packages.\n"
     ]
    }
   ],
   "source": [
    "pip install opencv-python"
   ]
  },
  {
   "cell_type": "code",
   "execution_count": 3,
   "id": "ad466bf6",
   "metadata": {},
   "outputs": [],
   "source": [
    "import numpy\n",
    "import cv2\n",
    "\n",
    "img = numpy.zeros((512,512,3))\n",
    "# Writing text\n",
    "font = cv2.FONT_HERSHEY_SIMPLEX\n",
    "img = cv2.putText(img, 'Image Creation', (50, 50),font, 0.8, (0,255,255), 2)\n",
    "# creating a rectangles\n",
    "img = cv2.rectangle(img,(12,12),(312,312),(255,255,0),3)\n",
    "img = cv2.rectangle(img,(100,100),(400,400),(0,255,0),3)\n",
    "img = cv2.rectangle(img,(200,200),(500,500),(255,0,255),3)\n",
    "img = cv2.rectangle(img,(300,300),(600,600),(5,200,2),3)\n",
    "img = cv2.rectangle(img,(500,500),(600,600),(150,0,25),3)\n",
    "# creating a circle\n",
    "img = cv2.circle(img, (200, 200), 80, (255, 0, 0), 3)\n",
    "\n"
   ]
  },
  {
   "cell_type": "code",
   "execution_count": 4,
   "id": "992f75e0",
   "metadata": {},
   "outputs": [],
   "source": [
    "# allows us to see image\n",
    "cv2.imshow(\"myimage\",img)\n",
    "cv2.waitKey(10000)\n",
    "# until closed forcefully\n",
    "cv2.destroyAllWindows() \n"
   ]
  },
  {
   "cell_type": "code",
   "execution_count": null,
   "id": "d728030b",
   "metadata": {},
   "outputs": [],
   "source": []
  }
 ],
 "metadata": {
  "kernelspec": {
   "display_name": "Python 3",
   "language": "python",
   "name": "python3"
  },
  "language_info": {
   "codemirror_mode": {
    "name": "ipython",
    "version": 3
   },
   "file_extension": ".py",
   "mimetype": "text/x-python",
   "name": "python",
   "nbconvert_exporter": "python",
   "pygments_lexer": "ipython3",
   "version": "3.8.8"
  }
 },
 "nbformat": 4,
 "nbformat_minor": 5
}
