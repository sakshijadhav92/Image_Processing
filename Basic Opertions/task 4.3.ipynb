{
 "cells": [
  {
   "cell_type": "code",
   "execution_count": 9,
   "id": "4c53e5ed",
   "metadata": {},
   "outputs": [],
   "source": [
    "import cv2\n",
    "import numpy\n",
    "#Allows us to read a image1\n",
    "img1 = cv2.imread(\"1.jpg\")\n",
    "#Allows us to read a image2\n",
    "img2 = cv2.imread(\"2.jpg\")\n",
    "new_img1 = cv2.resize(img1,(600,512))\n",
    "new_img2 = cv2.resize(img2,(600,512))\n",
    "horizontal_collage = numpy.hstack((new_img1,new_img2))\n",
    "# Allows us to see horizontal_collage\n",
    "cv2.imshow(\"Horizontal Collage\",horizontal_collage)\n",
    "cv2.waitKey(10000)\n",
    "# Until closed forcefully\n",
    "cv2.destroyAllWindows()"
   ]
  },
  {
   "cell_type": "code",
   "execution_count": 10,
   "id": "c577c168",
   "metadata": {},
   "outputs": [],
   "source": [
    "import cv2\n",
    "import numpy\n",
    "#Allows us to read a image1\n",
    "img1 = cv2.imread(\"1.jpg\")\n",
    "#Allows us to read a image2\n",
    "img2 = cv2.imread(\"2.jpg\")\n",
    "new_img1 = cv2.resize(img1,(300,400))\n",
    "new_img2 = cv2.resize(img2,(300,400))\n",
    "vertical_collage = numpy.vstack((new_img1,new_img2))\n",
    "# Allows us to see vertical_collage\n",
    "cv2.imshow(\"Vertical Collage\",vertical_collage)\n",
    "cv2.waitKey(10000)\n",
    "# Until closed forcefully\n",
    "cv2.destroyAllWindows()"
   ]
  },
  {
   "cell_type": "code",
   "execution_count": null,
   "id": "5d9a7156",
   "metadata": {},
   "outputs": [],
   "source": []
  }
 ],
 "metadata": {
  "kernelspec": {
   "display_name": "Python 3",
   "language": "python",
   "name": "python3"
  },
  "language_info": {
   "codemirror_mode": {
    "name": "ipython",
    "version": 3
   },
   "file_extension": ".py",
   "mimetype": "text/x-python",
   "name": "python",
   "nbconvert_exporter": "python",
   "pygments_lexer": "ipython3",
   "version": "3.8.8"
  }
 },
 "nbformat": 4,
 "nbformat_minor": 5
}
