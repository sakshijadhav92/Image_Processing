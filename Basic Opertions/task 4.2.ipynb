{
 "cells": [
  {
   "cell_type": "code",
   "execution_count": 2,
   "id": "c2ed36dd",
   "metadata": {},
   "outputs": [],
   "source": [
    "import cv2\n",
    "#Allows us to read a image1\n",
    "img1 = cv2.imread(\"1.jpg\")\n",
    "# Allows us to see image1\n",
    "cv2.imshow(\"FirstImage\",img1)\n",
    "cv2.waitKey(10000)\n",
    "# Until closed forcefully\n",
    "cv2.destroyAllWindows()"
   ]
  },
  {
   "cell_type": "code",
   "execution_count": 3,
   "id": "11875a8b",
   "metadata": {},
   "outputs": [],
   "source": [
    "#Allows us to read a image2\n",
    "img2 = cv2.imread(\"2.jpg\")\n",
    "# Allows us to see image2\n",
    "cv2.imshow(\"SecondImage\",img2)\n",
    "cv2.waitKey(10000)\n",
    "# Until closed forcefully\n",
    "cv2.destroyAllWindows()"
   ]
  },
  {
   "cell_type": "code",
   "execution_count": null,
   "id": "f42685e1",
   "metadata": {},
   "outputs": [],
   "source": [
    "# get dimensions of image1 (height, width, number of channels in image1)\n",
    "img1.shape\n",
    " "
   ]
  },
  {
   "cell_type": "code",
   "execution_count": null,
   "id": "f5ebf0af",
   "metadata": {},
   "outputs": [],
   "source": [
    "# get dimensions of image2 (height, width, number of channels in image2)\n",
    "img2.shape"
   ]
  },
  {
   "cell_type": "code",
   "execution_count": 10,
   "id": "f98b9ab2",
   "metadata": {},
   "outputs": [],
   "source": [
    "#Allows us to resize a image1\n",
    "new_img1 = cv2.resize(img1,(900,512))\n",
    "# Allows us to see new_image1\n",
    "cv2.imshow(\"NewFirstImage\",new_img1)\n",
    "cv2.waitKey(10000)\n",
    "# Until closed forcefully\n",
    "cv2.destroyAllWindows()\n",
    "#Allows us to resize a image2\n",
    "new_img2 = cv2.resize(img2,(900,512))\n",
    "# Allows us to see new_image2\n",
    "cv2.imshow(\"NewSecondImage\",new_img2)\n",
    "cv2.waitKey(10000)\n",
    "# Until closed forcefully\n",
    "cv2.destroyAllWindows()"
   ]
  },
  {
   "cell_type": "code",
   "execution_count": null,
   "id": "85d23235",
   "metadata": {},
   "outputs": [],
   "source": [
    "# get dimensions of newimage1 (height, width, number of channels in newimage1)\n",
    "new_img1.shape"
   ]
  },
  {
   "cell_type": "code",
   "execution_count": null,
   "id": "0e0320fb",
   "metadata": {},
   "outputs": [],
   "source": [
    "# get dimensions of newimage2 (height, width, number of channels in newimage2)\n",
    "new_img2.shape"
   ]
  },
  {
   "cell_type": "code",
   "execution_count": 11,
   "id": "0c85dc69",
   "metadata": {},
   "outputs": [],
   "source": [
    "crop_img1=new_img1[0:200,0:200]\n",
    "# Allows us to see crop_image1\n",
    "cv2.imshow(\"CroppedFirstImage\",crop_img1)\n",
    "cv2.waitKey(10000)\n",
    "# Until closed forcefully\n",
    "cv2.destroyAllWindows()"
   ]
  },
  {
   "cell_type": "code",
   "execution_count": 12,
   "id": "6183b612",
   "metadata": {},
   "outputs": [],
   "source": [
    "crop_img2=new_img2[0:200,0:200]\n",
    "# Allows us to see crop_image2\n",
    "cv2.imshow(\"CroppedSecondImage\",crop_img2)\n",
    "cv2.waitKey(10000)\n",
    "# Until closed forcefully\n",
    "cv2.destroyAllWindows()"
   ]
  },
  {
   "cell_type": "code",
   "execution_count": 13,
   "id": "65372485",
   "metadata": {},
   "outputs": [],
   "source": [
    "swap_img2=new_img2\n",
    "# swap newimage2 with croppedimage1\n",
    "swap_img2[0:200,0:200]=crop_img1\n",
    "# Allows us to see new_image2 after swapping\n",
    "cv2.imshow(\"SwappedSecondImage\",swap_img2)\n",
    "cv2.waitKey(10000)\n",
    "# Until closed forcefully\n",
    "cv2.destroyAllWindows()"
   ]
  },
  {
   "cell_type": "code",
   "execution_count": 9,
   "id": "6203505b",
   "metadata": {},
   "outputs": [],
   "source": [
    "swap_img1=new_img1\n",
    "# swap newimage1 with croppedimage2\n",
    "swap_img1[0:200,0:200]=crop_img2\n",
    "# Allows us to see new_image1 after swapping \n",
    "cv2.imshow(\"SwappedFirstImage\",swap_img1)\n",
    "cv2.waitKey(10000)\n",
    "# Until closed forcefully\n",
    "cv2.destroyAllWindows()"
   ]
  }
 ],
 "metadata": {
  "kernelspec": {
   "display_name": "Python 3",
   "language": "python",
   "name": "python3"
  },
  "language_info": {
   "codemirror_mode": {
    "name": "ipython",
    "version": 3
   },
   "file_extension": ".py",
   "mimetype": "text/x-python",
   "name": "python",
   "nbconvert_exporter": "python",
   "pygments_lexer": "ipython3",
   "version": "3.8.8"
  }
 },
 "nbformat": 4,
 "nbformat_minor": 5
}
